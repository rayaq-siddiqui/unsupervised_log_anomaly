{
 "cells": [
  {
   "cell_type": "markdown",
   "metadata": {},
   "source": [
    "https://github.com/spilabkorea/Domain-LOA/tree/c7a0d6436aa9fbb9cf741eeb8af820bf751de481"
   ]
  },
  {
   "cell_type": "code",
   "execution_count": 1,
   "metadata": {},
   "outputs": [],
   "source": [
    "import numpy as np\n",
    "import pandas as pd"
   ]
  },
  {
   "cell_type": "code",
   "execution_count": 2,
   "metadata": {},
   "outputs": [],
   "source": [
    "from loglizer import loglizer\n",
    "from loglizer.loglizer import dataloader\n",
    "from loglizer.loglizer import preprocessing"
   ]
  },
  {
   "cell_type": "code",
   "execution_count": 3,
   "metadata": {},
   "outputs": [],
   "source": [
    "batch_size = 32\n",
    "hidden_size = 32\n",
    "num_directions = 2\n",
    "topk = 5\n",
    "train_ratio = 0.2\n",
    "window_size = 10\n",
    "epoches = 2\n",
    "num_workers = 2\n",
    "device = 0 "
   ]
  },
  {
   "cell_type": "code",
   "execution_count": 4,
   "metadata": {},
   "outputs": [
    {
     "name": "stdout",
     "output_type": "stream",
     "text": [
      "====== Input data summary ======\n",
      "Loading loglizer/data/HDFS/HDFS_100k.log_structured.csv\n",
      "156 157\n",
      "Total: 7940 instances, 313 anomaly, 7627 normal\n",
      "Train: 3969 instances, 156 anomaly, 3813 normal\n",
      "Test: 3971 instances, 157 anomaly, 3814 normal\n",
      "\n"
     ]
    }
   ],
   "source": [
    "(x_train, y_train), (x_test, y_test) = dataloader.load_HDFS(\n",
    "    'loglizer/data/HDFS/HDFS_100k.log_structured.csv', \n",
    "    label_file='loglizer/data/HDFS/anomaly_label.csv',\n",
    "    window='session', \n",
    "    train_ratio=0.5,\n",
    "    split_type='uniform'\n",
    ")"
   ]
  },
  {
   "cell_type": "code",
   "execution_count": 5,
   "metadata": {},
   "outputs": [
    {
     "data": {
      "text/plain": [
       "['Receiving block <*> src: /<*> dest: /<*>',\n",
       " 'BLOCK* NameSystem.allocateBlock:<*>',\n",
       " 'Receiving block <*> src: /<*> dest: /<*>',\n",
       " 'Receiving block <*> src: /<*> dest: /<*>',\n",
       " 'PacketResponder <*> for block <*> terminating',\n",
       " 'Received block <*> of size <*> from /<*>',\n",
       " 'BLOCK* NameSystem.addStoredBlock: blockMap updated: <*> is added to <*> size <*>',\n",
       " 'PacketResponder <*> for block <*> terminating',\n",
       " 'Received block <*> of size <*> from /<*>',\n",
       " 'PacketResponder <*> for block <*> terminating',\n",
       " 'Received block <*> of size <*> from /<*>',\n",
       " 'BLOCK* NameSystem.addStoredBlock: blockMap updated: <*> is added to <*> size <*>',\n",
       " 'BLOCK* NameSystem.addStoredBlock: blockMap updated: <*> is added to <*> size <*>',\n",
       " 'Verification succeeded for <*>',\n",
       " 'Verification succeeded for <*>',\n",
       " 'Verification succeeded for <*>']"
      ]
     },
     "execution_count": 5,
     "metadata": {},
     "output_type": "execute_result"
    }
   ],
   "source": [
    "x_train[0]"
   ]
  },
  {
   "cell_type": "code",
   "execution_count": 6,
   "metadata": {},
   "outputs": [
    {
     "data": {
      "text/plain": [
       "array([0, 0, 1, ..., 0, 0, 0])"
      ]
     },
     "execution_count": 6,
     "metadata": {},
     "output_type": "execute_result"
    }
   ],
   "source": [
    "y_train"
   ]
  },
  {
   "cell_type": "code",
   "execution_count": 7,
   "metadata": {},
   "outputs": [
    {
     "data": {
      "text/plain": [
       "array([list(['BLOCK* NameSystem.allocateBlock:<*>', 'Receiving block <*> src: /<*> dest: /<*>', 'Receiving block <*> src: /<*> dest: /<*>', 'Receiving block <*> src: /<*> dest: /<*>', 'BLOCK* NameSystem.addStoredBlock: blockMap updated: <*> is added to <*> size <*>', 'BLOCK* NameSystem.addStoredBlock: blockMap updated: <*> is added to <*> size <*>', 'PacketResponder <*> for block <*> terminating', 'Received block <*> of size <*> from /<*>', 'PacketResponder <*> for block <*> terminating', 'Received block <*> of size <*> from /<*>', 'BLOCK* NameSystem.addStoredBlock: blockMap updated: <*> is added to <*> size <*>', 'PacketResponder <*> for block <*> terminating', 'Received block <*> of size <*> from /<*>']),\n",
       "       list(['BLOCK* NameSystem.allocateBlock:<*>', 'Receiving block <*> src: /<*> dest: /<*>', 'Receiving block <*> src: /<*> dest: /<*>', 'Receiving block <*> src: /<*> dest: /<*>', 'BLOCK* NameSystem.addStoredBlock: blockMap updated: <*> is added to <*> size <*>', 'BLOCK* NameSystem.addStoredBlock: blockMap updated: <*> is added to <*> size <*>', 'PacketResponder <*> for block <*> terminating', 'Received block <*> of size <*> from /<*>', 'PacketResponder <*> for block <*> terminating', 'Received block <*> of size <*> from /<*>', 'PacketResponder <*> for block <*> terminating', 'Received block <*> of size <*> from /<*>', 'BLOCK* NameSystem.addStoredBlock: blockMap updated: <*> is added to <*> size <*>']),\n",
       "       list(['BLOCK* NameSystem.allocateBlock:<*>', 'Receiving block <*> src: /<*> dest: /<*>', 'Receiving block <*> src: /<*> dest: /<*>', 'writeBlock <*> received exception <*>']),\n",
       "       ...,\n",
       "       list(['BLOCK* NameSystem.allocateBlock:<*>', 'Receiving block <*> src: /<*> dest: /<*>', 'Receiving block <*> src: /<*> dest: /<*>', 'Receiving block <*> src: /<*> dest: /<*>', 'BLOCK* NameSystem.addStoredBlock: blockMap updated: <*> is added to <*> size <*>', 'BLOCK* NameSystem.addStoredBlock: blockMap updated: <*> is added to <*> size <*>', 'BLOCK* NameSystem.addStoredBlock: blockMap updated: <*> is added to <*> size <*>', 'PacketResponder <*> for block <*> terminating', 'Received block <*> of size <*> from /<*>', 'PacketResponder <*> for block <*> terminating', 'Received block <*> of size <*> from /<*>', 'PacketResponder <*> for block <*> terminating', 'Received block <*> of size <*> from /<*>']),\n",
       "       list(['BLOCK* NameSystem.allocateBlock:<*>', 'Receiving block <*> src: /<*> dest: /<*>', 'Receiving block <*> src: /<*> dest: /<*>', 'Receiving block <*> src: /<*> dest: /<*>', 'BLOCK* NameSystem.addStoredBlock: blockMap updated: <*> is added to <*> size <*>', 'BLOCK* NameSystem.addStoredBlock: blockMap updated: <*> is added to <*> size <*>', 'PacketResponder <*> for block <*> terminating', 'Received block <*> of size <*> from /<*>', 'PacketResponder <*> for block <*> terminating', 'Received block <*> of size <*> from /<*>', 'PacketResponder <*> for block <*> terminating', 'Received block <*> of size <*> from /<*>', 'BLOCK* NameSystem.addStoredBlock: blockMap updated: <*> is added to <*> size <*>']),\n",
       "       list(['BLOCK* NameSystem.allocateBlock:<*>', 'Receiving block <*> src: /<*> dest: /<*>', 'Receiving block <*> src: /<*> dest: /<*>', 'Receiving block <*> src: /<*> dest: /<*>', 'BLOCK* NameSystem.addStoredBlock: blockMap updated: <*> is added to <*> size <*>', 'BLOCK* NameSystem.addStoredBlock: blockMap updated: <*> is added to <*> size <*>', 'PacketResponder <*> for block <*> terminating', 'Received block <*> of size <*> from /<*>', 'PacketResponder <*> for block <*> terminating', 'Received block <*> of size <*> from /<*>', 'PacketResponder <*> for block <*> terminating', 'Received block <*> of size <*> from /<*>', 'BLOCK* NameSystem.addStoredBlock: blockMap updated: <*> is added to <*> size <*>'])],\n",
       "      dtype=object)"
      ]
     },
     "execution_count": 7,
     "metadata": {},
     "output_type": "execute_result"
    }
   ],
   "source": [
    "x_test"
   ]
  },
  {
   "cell_type": "code",
   "execution_count": 8,
   "metadata": {},
   "outputs": [
    {
     "data": {
      "text/plain": [
       "array([1, 1, 1, ..., 0, 0, 0])"
      ]
     },
     "execution_count": 8,
     "metadata": {},
     "output_type": "execute_result"
    }
   ],
   "source": [
    "y_test"
   ]
  },
  {
   "cell_type": "code",
   "execution_count": 9,
   "metadata": {},
   "outputs": [
    {
     "name": "stdout",
     "output_type": "stream",
     "text": [
      "====== Transformed train data summary ======\n",
      "Train data shape: 3969-by-14\n",
      "\n",
      "====== Transformed test data summary ======\n",
      "Test data shape: 3971-by-14\n",
      "\n"
     ]
    }
   ],
   "source": [
    "feature_extractor = preprocessing.FeatureExtractor()\n",
    "x_train = feature_extractor.fit_transform(x_train, term_weighting='tf-idf', normalization='zero-mean')\n",
    "x_test = feature_extractor.transform(x_test)"
   ]
  },
  {
   "cell_type": "code",
   "execution_count": 10,
   "metadata": {},
   "outputs": [
    {
     "data": {
      "text/plain": [
       "(-0.7370563024535449, 1458.3573473362158, 521)"
      ]
     },
     "execution_count": 10,
     "metadata": {},
     "output_type": "execute_result"
    }
   ],
   "source": [
    "mx = 0\n",
    "mn = 0\n",
    "count = 0\n",
    "for x_ in x_train:\n",
    "    if max(x_) > 1:\n",
    "        count += 1\n",
    "    if max(x_) > mx:\n",
    "        mx = max(x_)\n",
    "    if min(x_) < mn:\n",
    "        mn = min(x_)\n",
    "    \n",
    "mn, mx, count"
   ]
  },
  {
   "cell_type": "code",
   "execution_count": 11,
   "metadata": {},
   "outputs": [],
   "source": [
    "# vectorizer = preprocessing.Vectorizer()\n",
    "# vectorizer.fit_transform(x_train)"
   ]
  },
  {
   "cell_type": "code",
   "execution_count": 12,
   "metadata": {},
   "outputs": [
    {
     "name": "stdout",
     "output_type": "stream",
     "text": [
      "[-4.88799673e-14  1.03801473e-25  5.87142581e-04  6.01474310e-04\n",
      "  5.76412880e-04  2.85048410e+00 -1.46142318e-02 -8.35098961e-03\n",
      " -8.35098961e-03 -8.35098961e-03 -7.37056302e-01 -3.61975015e-02\n",
      " -2.08774740e-03 -2.08774740e-03]\n",
      "<class 'numpy.ndarray'>\n"
     ]
    },
    {
     "data": {
      "text/plain": [
       "(3969, 14)"
      ]
     },
     "execution_count": 12,
     "metadata": {},
     "output_type": "execute_result"
    }
   ],
   "source": [
    "print(x_train[0])\n",
    "print(type(x_train))\n",
    "x_train.shape"
   ]
  },
  {
   "cell_type": "code",
   "execution_count": 13,
   "metadata": {},
   "outputs": [
    {
     "data": {
      "text/plain": [
       "2.8504841006486688"
      ]
     },
     "execution_count": 13,
     "metadata": {},
     "output_type": "execute_result"
    }
   ],
   "source": [
    "max(x_train[0])"
   ]
  },
  {
   "cell_type": "code",
   "execution_count": 14,
   "metadata": {},
   "outputs": [
    {
     "name": "stdout",
     "output_type": "stream",
     "text": [
      "14\n"
     ]
    },
    {
     "data": {
      "text/plain": [
       "array([-4.88799673e-14,  1.03801473e-25,  5.87142581e-04,  6.01474310e-04,\n",
       "        5.76412880e-04, -5.75102717e-01, -1.46142318e-02, -8.35098961e-03,\n",
       "       -8.35098961e-03, -8.35098961e-03, -7.37056302e-01, -3.61975015e-02,\n",
       "       -2.08774740e-03, -2.08774740e-03])"
      ]
     },
     "execution_count": 14,
     "metadata": {},
     "output_type": "execute_result"
    }
   ],
   "source": [
    "print(len(x_test[0]))\n",
    "x_test[0]"
   ]
  },
  {
   "cell_type": "code",
   "execution_count": 15,
   "metadata": {},
   "outputs": [],
   "source": [
    "from nn_autoencoder import nn_autoencoder\n",
    "\n",
    "train_dataset = {\n",
    "    'x': x_train,\n",
    "    'y': y_train\n",
    "}\n",
    "\n",
    "test_dataset = {\n",
    "    'x': x_test,\n",
    "    'y': y_test\n",
    "}\n",
    "\n",
    "# model = nn_autoencoder(train_dataset, test_dataset, 0.96)\n",
    "# model"
   ]
  },
  {
   "cell_type": "code",
   "execution_count": 16,
   "metadata": {},
   "outputs": [],
   "source": [
    "# true, pred = model"
   ]
  },
  {
   "cell_type": "code",
   "execution_count": 17,
   "metadata": {},
   "outputs": [],
   "source": [
    "# count = 0\n",
    "# total = 0\n",
    "\n",
    "# for t,p in zip(true, pred):\n",
    "#     if t and p:\n",
    "#         count += 1\n",
    "#     total += 1\n",
    "\n",
    "# count / total"
   ]
  },
  {
   "cell_type": "code",
   "execution_count": 18,
   "metadata": {},
   "outputs": [],
   "source": [
    "from lstm_autoencoder import lstm_autoencoder\n",
    "\n",
    "# model_lstm = lstm_autoencoder(train_dataset, test_dataset, 0.96)\n",
    "# model_lstm"
   ]
  },
  {
   "cell_type": "code",
   "execution_count": 19,
   "metadata": {},
   "outputs": [],
   "source": [
    "# true, pred, X_pred_train = model_lstm\n"
   ]
  },
  {
   "cell_type": "code",
   "execution_count": 20,
   "metadata": {},
   "outputs": [],
   "source": [
    "# count = 0\n",
    "# total = 0\n",
    "\n",
    "# for t,p in zip(true, pred):\n",
    "#     if t and p:\n",
    "#         count += 1\n",
    "#     total += 1\n",
    "\n",
    "# count / total"
   ]
  },
  {
   "cell_type": "code",
   "execution_count": 21,
   "metadata": {},
   "outputs": [],
   "source": [
    "# X_pred_train"
   ]
  },
  {
   "cell_type": "code",
   "execution_count": 22,
   "metadata": {},
   "outputs": [
    {
     "name": "stdout",
     "output_type": "stream",
     "text": [
      "Epoch 1/100\n",
      "32/32 [==============================] - 2s 31ms/step - loss: 77.6976 - accuracy: 0.0000e+00 - f1_score: -0.1885 - val_loss: 0.6104 - val_accuracy: 0.0053 - val_f1_score: 0.1506\n",
      "Epoch 2/100\n",
      "32/32 [==============================] - 1s 22ms/step - loss: 77.4689 - accuracy: 0.0000e+00 - f1_score: -0.1911 - val_loss: 0.5857 - val_accuracy: 0.0053 - val_f1_score: 0.1507\n",
      "Epoch 3/100\n",
      "32/32 [==============================] - 1s 23ms/step - loss: 77.3397 - accuracy: 0.0000e+00 - f1_score: -0.1907 - val_loss: 0.5700 - val_accuracy: 0.0000e+00 - val_f1_score: 0.1507\n",
      "Epoch 4/100\n",
      "32/32 [==============================] - 1s 22ms/step - loss: 77.2536 - accuracy: 0.0000e+00 - f1_score: -0.1965 - val_loss: 0.5763 - val_accuracy: 0.0000e+00 - val_f1_score: 0.1507\n",
      "Epoch 5/100\n",
      "32/32 [==============================] - 1s 22ms/step - loss: 77.1734 - accuracy: 0.0191 - f1_score: -0.1911 - val_loss: 0.6519 - val_accuracy: 0.0000e+00 - val_f1_score: 0.1507\n",
      "Epoch 6/100\n",
      "32/32 [==============================] - 1s 22ms/step - loss: 77.1005 - accuracy: 0.0388 - f1_score: 1.0867 - val_loss: 0.8627 - val_accuracy: 0.0000e+00 - val_f1_score: 0.1507\n",
      "Epoch 7/100\n",
      "32/32 [==============================] - 1s 22ms/step - loss: 77.0859 - accuracy: 0.0194 - f1_score: -0.0944 - val_loss: 1.1733 - val_accuracy: 0.0000e+00 - val_f1_score: 0.1506\n",
      "Epoch 8/100\n",
      "32/32 [==============================] - 1s 22ms/step - loss: 77.0511 - accuracy: 0.0202 - f1_score: 0.4361 - val_loss: 1.6387 - val_accuracy: 0.0000e+00 - val_f1_score: 0.1335\n",
      "Epoch 9/100\n",
      "32/32 [==============================] - 1s 21ms/step - loss: 76.9849 - accuracy: 0.0668 - f1_score: 0.3117 - val_loss: 2.1146 - val_accuracy: 0.0456 - val_f1_score: 0.1127\n",
      "Epoch 10/100\n",
      "32/32 [==============================] - 1s 21ms/step - loss: 76.9780 - accuracy: 0.0978 - f1_score: 0.1829 - val_loss: 3.0197 - val_accuracy: 0.0456 - val_f1_score: -0.0082\n",
      "Epoch 11/100\n",
      "32/32 [==============================] - 1s 23ms/step - loss: 76.9996 - accuracy: 0.2872 - f1_score: -0.0091 - val_loss: 3.6284 - val_accuracy: 0.0456 - val_f1_score: -7.4803e-04\n",
      "Epoch 12/100\n",
      "32/32 [==============================] - 1s 23ms/step - loss: 76.9727 - accuracy: 0.0665 - f1_score: 0.4092 - val_loss: 3.9738 - val_accuracy: 0.0053 - val_f1_score: 0.0142\n",
      "Epoch 13/100\n",
      "32/32 [==============================] - 1s 21ms/step - loss: 76.9490 - accuracy: 7.5586e-04 - f1_score: 0.2141 - val_loss: 3.6095 - val_accuracy: 0.0509 - val_f1_score: -0.0010\n",
      "Epoch 14/100\n",
      "32/32 [==============================] - 1s 21ms/step - loss: 76.9315 - accuracy: 0.0093 - f1_score: 0.4077 - val_loss: 2.8459 - val_accuracy: 0.0509 - val_f1_score: -0.0010\n",
      "Epoch 15/100\n",
      "32/32 [==============================] - 1s 23ms/step - loss: 76.9152 - accuracy: 0.0446 - f1_score: 0.4418 - val_loss: 1.9214 - val_accuracy: 0.0509 - val_f1_score: -0.0010\n",
      "Epoch 16/100\n",
      "32/32 [==============================] - 1s 21ms/step - loss: 76.8603 - accuracy: 0.1572 - f1_score: 0.6969 - val_loss: 1.1147 - val_accuracy: 0.0458 - val_f1_score: 0.1315\n",
      "Epoch 17/100\n",
      "32/32 [==============================] - 1s 22ms/step - loss: 76.8725 - accuracy: 0.1741 - f1_score: 0.2387 - val_loss: 0.8964 - val_accuracy: 0.0458 - val_f1_score: -0.0015\n",
      "Epoch 18/100\n",
      "32/32 [==============================] - 1s 21ms/step - loss: 76.8674 - accuracy: 0.1859 - f1_score: 0.2777 - val_loss: 0.6096 - val_accuracy: 0.0458 - val_f1_score: 0.1315\n",
      "Epoch 19/100\n",
      "32/32 [==============================] - 1s 22ms/step - loss: 76.8435 - accuracy: 0.1633 - f1_score: 0.3881 - val_loss: 0.4459 - val_accuracy: 0.0458 - val_f1_score: 0.1327\n",
      "Epoch 20/100\n",
      "32/32 [==============================] - 1s 22ms/step - loss: 76.8700 - accuracy: 0.2028 - f1_score: -0.1114 - val_loss: 0.3374 - val_accuracy: 0.0456 - val_f1_score: -0.0071\n",
      "Epoch 21/100\n",
      "32/32 [==============================] - 1s 21ms/step - loss: 76.8707 - accuracy: 0.1580 - f1_score: 0.0579 - val_loss: 0.3774 - val_accuracy: 0.0458 - val_f1_score: -0.0015\n",
      "Epoch 22/100\n",
      "32/32 [==============================] - 1s 21ms/step - loss: 76.8372 - accuracy: 0.2071 - f1_score: 0.5086 - val_loss: 0.3907 - val_accuracy: 0.0456 - val_f1_score: 0.0053\n",
      "Epoch 23/100\n",
      "32/32 [==============================] - 1s 21ms/step - loss: 76.8395 - accuracy: 0.1620 - f1_score: 0.3763 - val_loss: 0.4109 - val_accuracy: 0.0509 - val_f1_score: 0.1364\n",
      "Epoch 24/100\n",
      "32/32 [==============================] - 1s 21ms/step - loss: 76.8564 - accuracy: 0.1809 - f1_score: 0.0552 - val_loss: 0.4235 - val_accuracy: 0.0458 - val_f1_score: -0.0015\n",
      "Epoch 25/100\n",
      "32/32 [==============================] - 1s 21ms/step - loss: 76.8512 - accuracy: 0.2210 - f1_score: -0.1119 - val_loss: 0.4193 - val_accuracy: 0.0458 - val_f1_score: -0.0015\n",
      "Epoch 26/100\n",
      "32/32 [==============================] - 1s 21ms/step - loss: 76.8113 - accuracy: 0.1965 - f1_score: 0.4698 - val_loss: 0.4085 - val_accuracy: 0.0456 - val_f1_score: 0.0036\n",
      "Epoch 27/100\n",
      "32/32 [==============================] - 1s 21ms/step - loss: 76.7913 - accuracy: 0.1779 - f1_score: 0.7772 - val_loss: 0.4371 - val_accuracy: 0.0456 - val_f1_score: 0.1543\n",
      "Epoch 28/100\n",
      "32/32 [==============================] - 1s 21ms/step - loss: 76.8099 - accuracy: 0.2066 - f1_score: 0.4464 - val_loss: 0.4756 - val_accuracy: 0.0456 - val_f1_score: -0.0043\n",
      "Epoch 29/100\n",
      "32/32 [==============================] - 1s 21ms/step - loss: 76.8298 - accuracy: 0.1902 - f1_score: 0.0601 - val_loss: 0.4180 - val_accuracy: 0.0456 - val_f1_score: 0.0017\n",
      "Epoch 30/100\n",
      "32/32 [==============================] - 1s 21ms/step - loss: 76.8008 - accuracy: 0.1764 - f1_score: 0.4153 - val_loss: 0.4210 - val_accuracy: 0.0458 - val_f1_score: -0.0015\n",
      "Epoch 31/100\n",
      "32/32 [==============================] - 1s 21ms/step - loss: 76.8152 - accuracy: 0.2671 - f1_score: 0.3089 - val_loss: 0.3906 - val_accuracy: 0.0456 - val_f1_score: -0.0023\n",
      "Epoch 32/100\n",
      "32/32 [==============================] - 1s 21ms/step - loss: 76.8027 - accuracy: 0.2731 - f1_score: 0.5094 - val_loss: 0.4078 - val_accuracy: 0.0456 - val_f1_score: -0.0100\n",
      "Epoch 33/100\n",
      "32/32 [==============================] - 1s 21ms/step - loss: 76.7984 - accuracy: 0.1897 - f1_score: 0.0621 - val_loss: 0.4324 - val_accuracy: 0.0458 - val_f1_score: -0.0076\n",
      "Epoch 34/100\n",
      "32/32 [==============================] - 1s 21ms/step - loss: 76.8005 - accuracy: 0.2613 - f1_score: 0.4581 - val_loss: 0.4255 - val_accuracy: 0.0458 - val_f1_score: -0.0075\n",
      "Epoch 35/100\n",
      "32/32 [==============================] - 1s 21ms/step - loss: 76.7718 - accuracy: 0.2021 - f1_score: 0.7842 - val_loss: 0.4438 - val_accuracy: 0.0456 - val_f1_score: -0.0065\n",
      "Epoch 36/100\n",
      "32/32 [==============================] - 1s 21ms/step - loss: 76.7871 - accuracy: 0.2860 - f1_score: 0.4811 - val_loss: 0.4496 - val_accuracy: 0.0456 - val_f1_score: -0.0043\n",
      "Epoch 37/100\n",
      "32/32 [==============================] - 1s 21ms/step - loss: 76.7996 - accuracy: 0.2842 - f1_score: 0.4069 - val_loss: 0.4867 - val_accuracy: 0.0456 - val_f1_score: -7.1254e-04\n",
      "Epoch 38/100\n",
      "32/32 [==============================] - 1s 21ms/step - loss: 76.7655 - accuracy: 0.2013 - f1_score: 0.7746 - val_loss: 0.5508 - val_accuracy: 0.9771 - val_f1_score: -0.0065\n",
      "Epoch 39/100\n",
      "32/32 [==============================] - 1s 21ms/step - loss: 76.8030 - accuracy: 0.4679 - f1_score: 0.3839 - val_loss: 0.8788 - val_accuracy: 0.0456 - val_f1_score: -0.0010\n",
      "Epoch 40/100\n",
      "32/32 [==============================] - 1s 21ms/step - loss: 76.7729 - accuracy: 0.3117 - f1_score: 0.9032 - val_loss: 0.7809 - val_accuracy: 0.0456 - val_f1_score: -0.0010\n",
      "Epoch 41/100\n",
      "32/32 [==============================] - 1s 21ms/step - loss: 76.7778 - accuracy: 0.2038 - f1_score: 0.5111 - val_loss: 0.5291 - val_accuracy: 0.0509 - val_f1_score: -0.0012\n",
      "Epoch 42/100\n",
      "32/32 [==============================] - 1s 21ms/step - loss: 76.7648 - accuracy: 0.1557 - f1_score: 0.1709 - val_loss: 0.3100 - val_accuracy: 0.0509 - val_f1_score: 0.1161\n",
      "Epoch 43/100\n",
      "32/32 [==============================] - 1s 21ms/step - loss: 76.7656 - accuracy: 0.2001 - f1_score: 0.6296 - val_loss: 0.3174 - val_accuracy: 0.0509 - val_f1_score: 0.1326\n",
      "Epoch 44/100\n",
      "32/32 [==============================] - 1s 21ms/step - loss: 76.7605 - accuracy: 0.1534 - f1_score: 0.6787 - val_loss: 0.3880 - val_accuracy: 0.0456 - val_f1_score: -0.0065\n",
      "Epoch 45/100\n",
      "32/32 [==============================] - 1s 21ms/step - loss: 76.7338 - accuracy: 0.1668 - f1_score: 0.7384 - val_loss: 0.4244 - val_accuracy: 0.0456 - val_f1_score: -0.0013\n",
      "Epoch 46/100\n",
      "32/32 [==============================] - 1s 21ms/step - loss: 76.7232 - accuracy: 0.0857 - f1_score: 0.7609 - val_loss: 0.6141 - val_accuracy: 0.0000e+00 - val_f1_score: -0.1751\n",
      "Epoch 47/100\n",
      "32/32 [==============================] - 1s 21ms/step - loss: 76.7067 - accuracy: 0.2255 - f1_score: 1.0516 - val_loss: 0.7541 - val_accuracy: 0.0456 - val_f1_score: -0.1561\n",
      "Epoch 48/100\n",
      "32/32 [==============================] - 1s 21ms/step - loss: 76.7142 - accuracy: 0.1789 - f1_score: 0.7365 - val_loss: 0.5509 - val_accuracy: 0.0509 - val_f1_score: -0.0010\n",
      "Epoch 49/100\n",
      "32/32 [==============================] - 1s 22ms/step - loss: 76.7046 - accuracy: 0.2331 - f1_score: 1.1534 - val_loss: 0.5228 - val_accuracy: 0.0509 - val_f1_score: -0.0010\n",
      "Epoch 50/100\n",
      "32/32 [==============================] - 1s 21ms/step - loss: 76.7130 - accuracy: 0.0899 - f1_score: 0.3899 - val_loss: 0.5848 - val_accuracy: 0.0000e+00 - val_f1_score: -0.1831\n",
      "Epoch 51/100\n",
      "32/32 [==============================] - 1s 21ms/step - loss: 76.8773 - accuracy: 0.1514 - f1_score: 0.9301 - val_loss: 1.0230 - val_accuracy: 7.5548e-04 - val_f1_score: -0.1835\n",
      "Epoch 52/100\n",
      "32/32 [==============================] - 1s 21ms/step - loss: 76.7790 - accuracy: 0.1272 - f1_score: 0.2734 - val_loss: 0.9505 - val_accuracy: 7.5548e-04 - val_f1_score: -0.1804\n",
      "Epoch 53/100\n",
      "32/32 [==============================] - 1s 21ms/step - loss: 76.6382 - accuracy: 0.1436 - f1_score: 0.3101 - val_loss: 1.1166 - val_accuracy: 7.5548e-04 - val_f1_score: -0.1769\n",
      "Epoch 54/100\n",
      "32/32 [==============================] - 1s 21ms/step - loss: 76.6745 - accuracy: 0.2076 - f1_score: 0.1789 - val_loss: 4.0345 - val_accuracy: 7.5548e-04 - val_f1_score: -0.1804\n",
      "Epoch 55/100\n",
      "32/32 [==============================] - 1s 21ms/step - loss: 76.6361 - accuracy: 0.2651 - f1_score: 0.0554 - val_loss: 5.9241 - val_accuracy: 7.5548e-04 - val_f1_score: -0.1804\n",
      "Epoch 56/100\n",
      "32/32 [==============================] - 1s 21ms/step - loss: 76.6574 - accuracy: 0.2764 - f1_score: 0.2330 - val_loss: 7.0241 - val_accuracy: 0.0456 - val_f1_score: -0.0378\n",
      "Epoch 57/100\n",
      "32/32 [==============================] - 1s 21ms/step - loss: 76.5850 - accuracy: 0.2976 - f1_score: 0.2185 - val_loss: 2.5643 - val_accuracy: 0.0456 - val_f1_score: -0.1458\n",
      "Epoch 58/100\n",
      "32/32 [==============================] - 1s 21ms/step - loss: 76.5510 - accuracy: 0.3107 - f1_score: 0.2310 - val_loss: 1.4304 - val_accuracy: 0.0456 - val_f1_score: -0.1517\n",
      "Epoch 59/100\n",
      "32/32 [==============================] - 1s 22ms/step - loss: 76.5706 - accuracy: 0.3086 - f1_score: 0.2232 - val_loss: 1.1220 - val_accuracy: 0.0000e+00 - val_f1_score: -0.1777\n",
      "Epoch 60/100\n",
      "32/32 [==============================] - 1s 22ms/step - loss: 76.5478 - accuracy: 0.2792 - f1_score: 0.2292 - val_loss: 0.8905 - val_accuracy: 0.0456 - val_f1_score: -0.1563\n",
      "Epoch 61/100\n",
      "32/32 [==============================] - 1s 21ms/step - loss: 76.4812 - accuracy: 0.3285 - f1_score: 0.2354 - val_loss: 0.9035 - val_accuracy: 0.0000e+00 - val_f1_score: -0.1822\n",
      "Epoch 62/100\n",
      "32/32 [==============================] - 1s 21ms/step - loss: 76.5351 - accuracy: 0.2877 - f1_score: 0.2289 - val_loss: 0.6232 - val_accuracy: 0.0456 - val_f1_score: -0.1563\n",
      "Epoch 63/100\n",
      "32/32 [==============================] - 1s 23ms/step - loss: 76.4552 - accuracy: 0.2860 - f1_score: 0.2245 - val_loss: 0.6268 - val_accuracy: 0.0456 - val_f1_score: -0.1563\n",
      "Epoch 64/100\n",
      "32/32 [==============================] - 1s 21ms/step - loss: 76.2430 - accuracy: 0.2938 - f1_score: 0.1489 - val_loss: 0.6216 - val_accuracy: 0.0456 - val_f1_score: -0.1563\n",
      "Epoch 65/100\n",
      "32/32 [==============================] - 1s 20ms/step - loss: 75.8459 - accuracy: 0.3018 - f1_score: 0.2272 - val_loss: 0.5160 - val_accuracy: 0.0456 - val_f1_score: -0.1563\n",
      "Epoch 66/100\n",
      "32/32 [==============================] - 1s 22ms/step - loss: 75.6671 - accuracy: 0.3071 - f1_score: 0.0494 - val_loss: 0.4674 - val_accuracy: 0.0456 - val_f1_score: -0.1563\n",
      "Epoch 67/100\n",
      "32/32 [==============================] - 1s 24ms/step - loss: 75.8106 - accuracy: 0.2996 - f1_score: 0.0495 - val_loss: 0.4184 - val_accuracy: 0.0456 - val_f1_score: -0.1563\n",
      "Epoch 68/100\n",
      "32/32 [==============================] - 1s 25ms/step - loss: 75.4206 - accuracy: 0.3074 - f1_score: 0.2253 - val_loss: 0.4320 - val_accuracy: 0.0456 - val_f1_score: -0.1563\n",
      "Epoch 69/100\n",
      "32/32 [==============================] - 1s 25ms/step - loss: 75.5782 - accuracy: 0.2993 - f1_score: 0.4703 - val_loss: 0.4318 - val_accuracy: 0.0456 - val_f1_score: -0.1563\n",
      "Epoch 70/100\n",
      "32/32 [==============================] - 1s 23ms/step - loss: 75.3274 - accuracy: 0.5480 - f1_score: 0.3257 - val_loss: 0.3910 - val_accuracy: 0.0456 - val_f1_score: -0.1563\n",
      "Epoch 71/100\n",
      "32/32 [==============================] - 1s 23ms/step - loss: 75.0838 - accuracy: 0.3147 - f1_score: 0.0907 - val_loss: 0.3762 - val_accuracy: 0.0456 - val_f1_score: -0.1563\n",
      "Epoch 72/100\n",
      "32/32 [==============================] - 1s 21ms/step - loss: 75.3117 - accuracy: 0.3137 - f1_score: 0.2276 - val_loss: 0.3809 - val_accuracy: 0.0456 - val_f1_score: -0.1563\n",
      "Epoch 73/100\n",
      "32/32 [==============================] - 1s 22ms/step - loss: 75.0662 - accuracy: 0.4848 - f1_score: 0.4182 - val_loss: 0.3727 - val_accuracy: 0.0456 - val_f1_score: -0.1563\n",
      "Epoch 74/100\n",
      "32/32 [==============================] - 1s 22ms/step - loss: 74.8618 - accuracy: 0.3081 - f1_score: 0.2784 - val_loss: 0.3860 - val_accuracy: 0.0456 - val_f1_score: -0.1563\n",
      "Epoch 75/100\n",
      "32/32 [==============================] - 1s 24ms/step - loss: 74.7673 - accuracy: 0.3447 - f1_score: 0.3809 - val_loss: 0.3631 - val_accuracy: 0.0456 - val_f1_score: -0.1563\n",
      "Epoch 76/100\n",
      "32/32 [==============================] - 1s 24ms/step - loss: 75.2212 - accuracy: 0.3134 - f1_score: 0.3730 - val_loss: 0.3681 - val_accuracy: 0.0456 - val_f1_score: -0.1563\n",
      "Epoch 77/100\n",
      "32/32 [==============================] - 1s 22ms/step - loss: 75.3431 - accuracy: 0.5813 - f1_score: 0.7967 - val_loss: 0.3565 - val_accuracy: 0.0456 - val_f1_score: -0.1563\n",
      "Epoch 78/100\n",
      "32/32 [==============================] - 1s 22ms/step - loss: 75.1426 - accuracy: 0.3681 - f1_score: 0.7112 - val_loss: 0.3528 - val_accuracy: 0.0456 - val_f1_score: -0.1563\n",
      "Epoch 79/100\n",
      "32/32 [==============================] - 1s 21ms/step - loss: 74.7128 - accuracy: 0.3197 - f1_score: 0.3620 - val_loss: 0.3525 - val_accuracy: 0.0456 - val_f1_score: -0.1563\n",
      "Epoch 80/100\n",
      "32/32 [==============================] - 1s 21ms/step - loss: 75.2363 - accuracy: 0.3328 - f1_score: 0.7553 - val_loss: 0.3507 - val_accuracy: 0.0456 - val_f1_score: -0.1563\n",
      "Epoch 81/100\n",
      "32/32 [==============================] - 1s 21ms/step - loss: 75.0250 - accuracy: 0.6805 - f1_score: 0.8952 - val_loss: 0.3453 - val_accuracy: 0.0456 - val_f1_score: -0.1563\n",
      "Epoch 82/100\n",
      "32/32 [==============================] - 1s 21ms/step - loss: 73.9411 - accuracy: 0.3197 - f1_score: 0.3480 - val_loss: 0.3682 - val_accuracy: 0.0456 - val_f1_score: -0.1563\n",
      "Epoch 83/100\n",
      "32/32 [==============================] - 1s 21ms/step - loss: 74.2718 - accuracy: 0.3222 - f1_score: 0.4495 - val_loss: 0.3627 - val_accuracy: 0.0456 - val_f1_score: -0.1563\n",
      "Epoch 84/100\n",
      "32/32 [==============================] - 1s 21ms/step - loss: 75.1745 - accuracy: 0.4230 - f1_score: 1.0936 - val_loss: 0.3520 - val_accuracy: 0.0456 - val_f1_score: -0.1563\n",
      "Epoch 85/100\n",
      "32/32 [==============================] - 1s 21ms/step - loss: 74.1537 - accuracy: 0.3250 - f1_score: 0.9131 - val_loss: 0.3544 - val_accuracy: 0.0456 - val_f1_score: -0.1563\n",
      "Epoch 86/100\n",
      "32/32 [==============================] - 1s 21ms/step - loss: 73.6319 - accuracy: 0.3238 - f1_score: 0.2107 - val_loss: 0.3723 - val_accuracy: 0.0456 - val_f1_score: -0.1563\n",
      "Epoch 87/100\n",
      "32/32 [==============================] - 1s 21ms/step - loss: 74.8411 - accuracy: 0.3228 - f1_score: 0.6233 - val_loss: 0.3942 - val_accuracy: 0.0456 - val_f1_score: -0.1563\n",
      "Epoch 88/100\n",
      "32/32 [==============================] - 1s 21ms/step - loss: 74.1906 - accuracy: 0.3240 - f1_score: 0.3557 - val_loss: 0.4046 - val_accuracy: 0.0456 - val_f1_score: -0.1563\n",
      "Epoch 89/100\n",
      "32/32 [==============================] - 1s 21ms/step - loss: 73.9119 - accuracy: 0.3427 - f1_score: 0.3429 - val_loss: 0.3850 - val_accuracy: 0.0456 - val_f1_score: -0.1563\n",
      "Epoch 90/100\n",
      "32/32 [==============================] - 1s 22ms/step - loss: 74.1999 - accuracy: 0.4079 - f1_score: 0.5534 - val_loss: 0.5760 - val_accuracy: 0.0458 - val_f1_score: -0.0915\n",
      "Epoch 91/100\n",
      "32/32 [==============================] - 1s 21ms/step - loss: 73.5978 - accuracy: 0.3142 - f1_score: 0.2173 - val_loss: 0.9679 - val_accuracy: 0.0000e+00 - val_f1_score: -0.1749\n",
      "Epoch 92/100\n",
      "32/32 [==============================] - 1s 23ms/step - loss: 73.2597 - accuracy: 0.3139 - f1_score: 0.2162 - val_loss: 0.7057 - val_accuracy: 0.0000e+00 - val_f1_score: -0.1749\n",
      "Epoch 93/100\n",
      "32/32 [==============================] - 1s 23ms/step - loss: 73.1462 - accuracy: 0.3177 - f1_score: 0.2171 - val_loss: 0.5421 - val_accuracy: 0.0000e+00 - val_f1_score: -0.1781\n",
      "Epoch 94/100\n",
      "32/32 [==============================] - 1s 22ms/step - loss: 73.0456 - accuracy: 0.3197 - f1_score: 0.2211 - val_loss: 0.5343 - val_accuracy: 0.0000e+00 - val_f1_score: -0.1768\n",
      "Epoch 95/100\n",
      "32/32 [==============================] - 1s 21ms/step - loss: 72.9513 - accuracy: 0.3195 - f1_score: 0.2207 - val_loss: 0.5393 - val_accuracy: 0.0000e+00 - val_f1_score: -0.1745\n",
      "Epoch 96/100\n",
      "32/32 [==============================] - 1s 21ms/step - loss: 72.8662 - accuracy: 0.3197 - f1_score: 0.2224 - val_loss: 0.5234 - val_accuracy: 0.0000e+00 - val_f1_score: -0.1745\n",
      "Epoch 97/100\n",
      "32/32 [==============================] - 1s 21ms/step - loss: 72.7807 - accuracy: 0.3197 - f1_score: 0.0507 - val_loss: 0.5100 - val_accuracy: 0.0000e+00 - val_f1_score: -0.1745\n",
      "Epoch 98/100\n",
      "32/32 [==============================] - 1s 21ms/step - loss: 72.6906 - accuracy: 0.3197 - f1_score: 0.2215 - val_loss: 0.4870 - val_accuracy: 0.0000e+00 - val_f1_score: -0.1745\n",
      "Epoch 99/100\n",
      "32/32 [==============================] - 1s 21ms/step - loss: 72.6135 - accuracy: 0.3195 - f1_score: 0.2219 - val_loss: 0.4645 - val_accuracy: 0.0000e+00 - val_f1_score: -0.1745\n",
      "Epoch 100/100\n",
      "32/32 [==============================] - 1s 22ms/step - loss: 73.7854 - accuracy: 0.3197 - f1_score: 0.0533 - val_loss: 0.4726 - val_accuracy: 0.0000e+00 - val_f1_score: -0.1745\n",
      "Model: \"model\"\n",
      "_________________________________________________________________\n",
      " Layer (type)                Output Shape              Param #   \n",
      "=================================================================\n",
      " input_1 (InputLayer)        [(None, 14)]              0         \n",
      "                                                                 \n",
      " dense (Dense)               (None, 8)                 120       \n",
      "                                                                 \n",
      " batch_normalization (BatchN  (None, 8)                32        \n",
      " ormalization)                                                   \n",
      "                                                                 \n",
      " dense_1 (Dense)             (None, 4)                 36        \n",
      "                                                                 \n",
      " batch_normalization_1 (Batc  (None, 4)                16        \n",
      " hNormalization)                                                 \n",
      "                                                                 \n",
      " dense_2 (Dense)             (None, 1)                 5         \n",
      "                                                                 \n",
      " batch_normalization_2 (Batc  (None, 1)                4         \n",
      " hNormalization)                                                 \n",
      "                                                                 \n",
      " dense_3 (Dense)             (None, 4)                 8         \n",
      "                                                                 \n",
      " batch_normalization_3 (Batc  (None, 4)                16        \n",
      " hNormalization)                                                 \n",
      "                                                                 \n",
      " dense_4 (Dense)             (None, 8)                 40        \n",
      "                                                                 \n",
      " batch_normalization_4 (Batc  (None, 8)                32        \n",
      " hNormalization)                                                 \n",
      "                                                                 \n",
      " dense_5 (Dense)             (None, 14)                126       \n",
      "                                                                 \n",
      "=================================================================\n",
      "Total params: 435\n",
      "Trainable params: 385\n",
      "Non-trainable params: 50\n",
      "_________________________________________________________________\n",
      "None\n"
     ]
    },
    {
     "data": {
      "text/plain": [
       "<keras.engine.functional.Functional at 0x29c54f610>"
      ]
     },
     "execution_count": 22,
     "metadata": {},
     "output_type": "execute_result"
    }
   ],
   "source": [
    "from nn_autoencoder import nn_autoencoder\n",
    "\n",
    "nn_aenc = nn_autoencoder(train_dataset, test_dataset, 0.96)\n",
    "nn_aenc"
   ]
  },
  {
   "cell_type": "code",
   "execution_count": 23,
   "metadata": {},
   "outputs": [
    {
     "data": {
      "text/plain": [
       "array([[-0.00398341, -0.00045702, -0.00760541, ...,  0.01504349,\n",
       "        -0.00157835, -0.00620154],\n",
       "       [ 0.02728135,  0.00517251,  0.0342527 , ..., -0.03862829,\n",
       "         0.02724765,  0.03822621],\n",
       "       [ 0.0247646 ,  0.00514488,  0.03127128, ..., -0.04091055,\n",
       "         0.02425061,  0.03459587],\n",
       "       ...,\n",
       "       [ 0.02728135,  0.00517251,  0.0342527 , ..., -0.03862829,\n",
       "         0.02724765,  0.03822621],\n",
       "       [ 0.0519647 , -0.00162885,  0.06713676, ..., -0.00165693,\n",
       "         0.05845539,  0.07900315],\n",
       "       [ 0.02728136,  0.0051725 ,  0.03425267, ..., -0.03862829,\n",
       "         0.02724772,  0.03822624]], dtype=float32)"
      ]
     },
     "execution_count": 23,
     "metadata": {},
     "output_type": "execute_result"
    }
   ],
   "source": [
    "pred = nn_aenc.predict(train_dataset['x'])\n",
    "pred"
   ]
  },
  {
   "cell_type": "code",
   "execution_count": null,
   "metadata": {},
   "outputs": [],
   "source": []
  }
 ],
 "metadata": {
  "kernelspec": {
   "display_name": "Python 3.8.13 ('ml')",
   "language": "python",
   "name": "python3"
  },
  "language_info": {
   "codemirror_mode": {
    "name": "ipython",
    "version": 3
   },
   "file_extension": ".py",
   "mimetype": "text/x-python",
   "name": "python",
   "nbconvert_exporter": "python",
   "pygments_lexer": "ipython3",
   "version": "3.8.13"
  },
  "orig_nbformat": 4,
  "vscode": {
   "interpreter": {
    "hash": "9af30963835933b21408ee5eecfbf720fcadebfe3f3c64ab8e2d3dc6f0d4daa2"
   }
  }
 },
 "nbformat": 4,
 "nbformat_minor": 2
}
