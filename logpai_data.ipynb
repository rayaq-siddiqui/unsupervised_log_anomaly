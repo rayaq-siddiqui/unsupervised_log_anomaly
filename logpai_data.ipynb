{
 "cells": [
  {
   "cell_type": "markdown",
   "metadata": {},
   "source": [
    "https://github.com/spilabkorea/Domain-LOA/tree/c7a0d6436aa9fbb9cf741eeb8af820bf751de481"
   ]
  },
  {
   "cell_type": "code",
   "execution_count": 1,
   "metadata": {},
   "outputs": [],
   "source": [
    "import numpy as np\n",
    "import pandas as pd"
   ]
  },
  {
   "cell_type": "code",
   "execution_count": 2,
   "metadata": {},
   "outputs": [],
   "source": [
    "from loglizer import loglizer\n",
    "from loglizer.loglizer import dataloader\n",
    "from loglizer.loglizer import preprocessing"
   ]
  },
  {
   "cell_type": "code",
   "execution_count": 3,
   "metadata": {},
   "outputs": [],
   "source": [
    "batch_size = 32\n",
    "hidden_size = 32\n",
    "num_directions = 2\n",
    "topk = 5\n",
    "train_ratio = 0.2\n",
    "window_size = 10\n",
    "epoches = 2\n",
    "num_workers = 2\n",
    "device = 0 "
   ]
  },
  {
   "cell_type": "code",
   "execution_count": 4,
   "metadata": {},
   "outputs": [
    {
     "name": "stdout",
     "output_type": "stream",
     "text": [
      "====== Input data summary ======\n",
      "Loading loglizer/data/HDFS/HDFS_100k.log_structured.csv\n",
      "156 157\n",
      "Total: 7940 instances, 313 anomaly, 7627 normal\n",
      "Train: 3969 instances, 156 anomaly, 3813 normal\n",
      "Test: 3971 instances, 157 anomaly, 3814 normal\n",
      "\n"
     ]
    }
   ],
   "source": [
    "(x_train, y_train), (x_test, y_test) = dataloader.load_HDFS(\n",
    "    'loglizer/data/HDFS/HDFS_100k.log_structured.csv', \n",
    "    label_file='loglizer/data/HDFS/anomaly_label.csv',\n",
    "    window='session', \n",
    "    train_ratio=0.5,\n",
    "    split_type='uniform'\n",
    ")"
   ]
  },
  {
   "cell_type": "code",
   "execution_count": 5,
   "metadata": {},
   "outputs": [
    {
     "data": {
      "text/plain": [
       "['BLOCK* NameSystem.allocateBlock:<*>',\n",
       " 'Receiving block <*> src: /<*> dest: /<*>',\n",
       " 'Receiving block <*> src: /<*> dest: /<*>',\n",
       " 'Receiving block <*> src: /<*> dest: /<*>',\n",
       " 'BLOCK* NameSystem.addStoredBlock: blockMap updated: <*> is added to <*> size <*>',\n",
       " 'PacketResponder <*> for block <*> terminating',\n",
       " 'Received block <*> of size <*> from /<*>',\n",
       " 'BLOCK* NameSystem.addStoredBlock: blockMap updated: <*> is added to <*> size <*>',\n",
       " 'BLOCK* NameSystem.addStoredBlock: blockMap updated: <*> is added to <*> size <*>',\n",
       " 'PacketResponder <*> for block <*> terminating',\n",
       " 'Received block <*> of size <*> from /<*>',\n",
       " 'PacketResponder <*> for block <*> terminating',\n",
       " 'Received block <*> of size <*> from /<*>',\n",
       " 'Verification succeeded for <*>']"
      ]
     },
     "execution_count": 5,
     "metadata": {},
     "output_type": "execute_result"
    }
   ],
   "source": [
    "x_train[0]"
   ]
  },
  {
   "cell_type": "code",
   "execution_count": 6,
   "metadata": {},
   "outputs": [
    {
     "data": {
      "text/plain": [
       "array([0, 0, 0, ..., 0, 0, 0])"
      ]
     },
     "execution_count": 6,
     "metadata": {},
     "output_type": "execute_result"
    }
   ],
   "source": [
    "y_train"
   ]
  },
  {
   "cell_type": "code",
   "execution_count": 7,
   "metadata": {},
   "outputs": [
    {
     "data": {
      "text/plain": [
       "array([list(['BLOCK* NameSystem.allocateBlock:<*>', 'Receiving block <*> src: /<*> dest: /<*>', 'Receiving block <*> src: /<*> dest: /<*>', 'Receiving block <*> src: /<*> dest: /<*>', 'BLOCK* NameSystem.addStoredBlock: blockMap updated: <*> is added to <*> size <*>', 'BLOCK* NameSystem.addStoredBlock: blockMap updated: <*> is added to <*> size <*>', 'PacketResponder <*> for block <*> terminating', 'Received block <*> of size <*> from /<*>', 'PacketResponder <*> for block <*> terminating', 'Received block <*> of size <*> from /<*>', 'BLOCK* NameSystem.addStoredBlock: blockMap updated: <*> is added to <*> size <*>', 'PacketResponder <*> for block <*> terminating', 'Received block <*> of size <*> from /<*>']),\n",
       "       list(['BLOCK* NameSystem.allocateBlock:<*>', 'Receiving block <*> src: /<*> dest: /<*>', 'Receiving block <*> src: /<*> dest: /<*>', 'Receiving block <*> src: /<*> dest: /<*>', 'BLOCK* NameSystem.addStoredBlock: blockMap updated: <*> is added to <*> size <*>', 'BLOCK* NameSystem.addStoredBlock: blockMap updated: <*> is added to <*> size <*>', 'PacketResponder <*> for block <*> terminating', 'Received block <*> of size <*> from /<*>', 'PacketResponder <*> for block <*> terminating', 'Received block <*> of size <*> from /<*>', 'PacketResponder <*> for block <*> terminating', 'Received block <*> of size <*> from /<*>', 'BLOCK* NameSystem.addStoredBlock: blockMap updated: <*> is added to <*> size <*>']),\n",
       "       list(['BLOCK* NameSystem.allocateBlock:<*>', 'Receiving block <*> src: /<*> dest: /<*>', 'Receiving block <*> src: /<*> dest: /<*>', 'writeBlock <*> received exception <*>']),\n",
       "       ...,\n",
       "       list(['BLOCK* NameSystem.allocateBlock:<*>', 'Receiving block <*> src: /<*> dest: /<*>', 'Receiving block <*> src: /<*> dest: /<*>', 'Receiving block <*> src: /<*> dest: /<*>', 'BLOCK* NameSystem.addStoredBlock: blockMap updated: <*> is added to <*> size <*>', 'BLOCK* NameSystem.addStoredBlock: blockMap updated: <*> is added to <*> size <*>', 'BLOCK* NameSystem.addStoredBlock: blockMap updated: <*> is added to <*> size <*>', 'PacketResponder <*> for block <*> terminating', 'Received block <*> of size <*> from /<*>', 'PacketResponder <*> for block <*> terminating', 'Received block <*> of size <*> from /<*>', 'PacketResponder <*> for block <*> terminating', 'Received block <*> of size <*> from /<*>']),\n",
       "       list(['BLOCK* NameSystem.allocateBlock:<*>', 'Receiving block <*> src: /<*> dest: /<*>', 'Receiving block <*> src: /<*> dest: /<*>', 'Receiving block <*> src: /<*> dest: /<*>', 'BLOCK* NameSystem.addStoredBlock: blockMap updated: <*> is added to <*> size <*>', 'BLOCK* NameSystem.addStoredBlock: blockMap updated: <*> is added to <*> size <*>', 'PacketResponder <*> for block <*> terminating', 'Received block <*> of size <*> from /<*>', 'PacketResponder <*> for block <*> terminating', 'Received block <*> of size <*> from /<*>', 'PacketResponder <*> for block <*> terminating', 'Received block <*> of size <*> from /<*>', 'BLOCK* NameSystem.addStoredBlock: blockMap updated: <*> is added to <*> size <*>']),\n",
       "       list(['BLOCK* NameSystem.allocateBlock:<*>', 'Receiving block <*> src: /<*> dest: /<*>', 'Receiving block <*> src: /<*> dest: /<*>', 'Receiving block <*> src: /<*> dest: /<*>', 'BLOCK* NameSystem.addStoredBlock: blockMap updated: <*> is added to <*> size <*>', 'BLOCK* NameSystem.addStoredBlock: blockMap updated: <*> is added to <*> size <*>', 'PacketResponder <*> for block <*> terminating', 'Received block <*> of size <*> from /<*>', 'PacketResponder <*> for block <*> terminating', 'Received block <*> of size <*> from /<*>', 'PacketResponder <*> for block <*> terminating', 'Received block <*> of size <*> from /<*>', 'BLOCK* NameSystem.addStoredBlock: blockMap updated: <*> is added to <*> size <*>'])],\n",
       "      dtype=object)"
      ]
     },
     "execution_count": 7,
     "metadata": {},
     "output_type": "execute_result"
    }
   ],
   "source": [
    "x_test"
   ]
  },
  {
   "cell_type": "code",
   "execution_count": 8,
   "metadata": {},
   "outputs": [
    {
     "data": {
      "text/plain": [
       "array([1, 1, 1, ..., 0, 0, 0])"
      ]
     },
     "execution_count": 8,
     "metadata": {},
     "output_type": "execute_result"
    }
   ],
   "source": [
    "y_test"
   ]
  },
  {
   "cell_type": "code",
   "execution_count": 9,
   "metadata": {},
   "outputs": [
    {
     "name": "stdout",
     "output_type": "stream",
     "text": [
      "====== Transformed train data summary ======\n",
      "Train data shape: 3969-by-14\n",
      "\n",
      "====== Transformed test data summary ======\n",
      "Test data shape: 3971-by-14\n",
      "\n"
     ]
    }
   ],
   "source": [
    "feature_extractor = preprocessing.FeatureExtractor()\n",
    "x_train = feature_extractor.fit_transform(x_train, term_weighting='tf-idf', normalization='zero-mean')\n",
    "x_test = feature_extractor.transform(x_test)"
   ]
  },
  {
   "cell_type": "code",
   "execution_count": 10,
   "metadata": {},
   "outputs": [
    {
     "data": {
      "text/plain": [
       "(-0.7370563024535449, 1458.3573473362158, 31)"
      ]
     },
     "execution_count": 10,
     "metadata": {},
     "output_type": "execute_result"
    }
   ],
   "source": [
    "mx = 0\n",
    "mn = 0\n",
    "count = 0\n",
    "for x_ in x_train:\n",
    "    if max(x_) > 3:\n",
    "        count += 1\n",
    "    if max(x_) > mx:\n",
    "        mx = max(x_)\n",
    "    if min(x_) < mn:\n",
    "        mn = min(x_)\n",
    "    \n",
    "mn, mx, count"
   ]
  },
  {
   "cell_type": "code",
   "execution_count": 11,
   "metadata": {},
   "outputs": [],
   "source": [
    "# vectorizer = preprocessing.Vectorizer()\n",
    "# vectorizer.fit_transform(x_train)"
   ]
  },
  {
   "cell_type": "code",
   "execution_count": 12,
   "metadata": {},
   "outputs": [
    {
     "name": "stdout",
     "output_type": "stream",
     "text": [
      "[ 1.03801473e-25 -4.88799673e-14  5.76412880e-04  5.87142581e-04\n",
      "  6.01474310e-04  5.66759556e-01 -3.61975015e-02 -1.46142318e-02\n",
      " -8.35098961e-03 -8.35098961e-03 -8.35098961e-03 -7.37056302e-01\n",
      " -2.08774740e-03 -2.08774740e-03]\n",
      "<class 'numpy.ndarray'>\n"
     ]
    },
    {
     "data": {
      "text/plain": [
       "(3969, 14)"
      ]
     },
     "execution_count": 12,
     "metadata": {},
     "output_type": "execute_result"
    }
   ],
   "source": [
    "print(x_train[0])\n",
    "print(type(x_train))\n",
    "x_train.shape"
   ]
  },
  {
   "cell_type": "code",
   "execution_count": 13,
   "metadata": {},
   "outputs": [
    {
     "data": {
      "text/plain": [
       "0.5667595557406007"
      ]
     },
     "execution_count": 13,
     "metadata": {},
     "output_type": "execute_result"
    }
   ],
   "source": [
    "max(x_train[0])"
   ]
  },
  {
   "cell_type": "code",
   "execution_count": 14,
   "metadata": {},
   "outputs": [
    {
     "name": "stdout",
     "output_type": "stream",
     "text": [
      "14\n"
     ]
    },
    {
     "data": {
      "text/plain": [
       "array([ 1.03801473e-25, -4.88799673e-14,  5.76412880e-04,  5.87142581e-04,\n",
       "        6.01474310e-04, -5.75102717e-01, -3.61975015e-02, -1.46142318e-02,\n",
       "       -8.35098961e-03, -8.35098961e-03, -8.35098961e-03, -7.37056302e-01,\n",
       "       -2.08774740e-03, -2.08774740e-03])"
      ]
     },
     "execution_count": 14,
     "metadata": {},
     "output_type": "execute_result"
    }
   ],
   "source": [
    "print(len(x_test[0]))\n",
    "x_test[0]"
   ]
  },
  {
   "cell_type": "code",
   "execution_count": 15,
   "metadata": {},
   "outputs": [],
   "source": [
    "from nn_autoencoder import nn_autoencoder\n",
    "\n",
    "train_dataset = {\n",
    "    'x': x_train,\n",
    "    'y': y_train\n",
    "}\n",
    "\n",
    "test_dataset = {\n",
    "    'x': x_test,\n",
    "    'y': y_test\n",
    "}\n",
    "\n",
    "# model = nn_autoencoder(train_dataset, test_dataset, 0.96)\n",
    "# model"
   ]
  },
  {
   "cell_type": "code",
   "execution_count": 16,
   "metadata": {},
   "outputs": [],
   "source": [
    "# true, pred = model"
   ]
  },
  {
   "cell_type": "code",
   "execution_count": 17,
   "metadata": {},
   "outputs": [],
   "source": [
    "# count = 0\n",
    "# total = 0\n",
    "\n",
    "# for t,p in zip(true, pred):\n",
    "#     if t and p:\n",
    "#         count += 1\n",
    "#     total += 1\n",
    "\n",
    "# count / total"
   ]
  },
  {
   "cell_type": "code",
   "execution_count": 18,
   "metadata": {},
   "outputs": [],
   "source": [
    "from lstm_autoencoder import lstm_autoencoder\n",
    "\n",
    "# model_lstm = lstm_autoencoder(train_dataset, test_dataset, 0.96)\n",
    "# model_lstm"
   ]
  },
  {
   "cell_type": "code",
   "execution_count": 19,
   "metadata": {},
   "outputs": [],
   "source": [
    "# true, pred, X_pred_train = model_lstm\n"
   ]
  },
  {
   "cell_type": "code",
   "execution_count": 20,
   "metadata": {},
   "outputs": [],
   "source": [
    "# count = 0\n",
    "# total = 0\n",
    "\n",
    "# for t,p in zip(true, pred):\n",
    "#     if t and p:\n",
    "#         count += 1\n",
    "#     total += 1\n",
    "\n",
    "# count / total"
   ]
  },
  {
   "cell_type": "code",
   "execution_count": 21,
   "metadata": {},
   "outputs": [],
   "source": [
    "# X_pred_train"
   ]
  },
  {
   "cell_type": "code",
   "execution_count": 22,
   "metadata": {},
   "outputs": [],
   "source": [
    "from nn_autoencoder import nn_autoencoder\n",
    "\n",
    "# nn_aenc = nn_autoencoder(train_dataset, test_dataset, 0.96)\n",
    "# nn_aenc"
   ]
  },
  {
   "cell_type": "code",
   "execution_count": 23,
   "metadata": {},
   "outputs": [],
   "source": [
    "# pred = nn_aenc.predict(train_dataset['x'])\n",
    "# pred[0]"
   ]
  },
  {
   "cell_type": "code",
   "execution_count": 24,
   "metadata": {},
   "outputs": [
    {
     "data": {
      "text/plain": [
       "array([ 1.03801473e-25, -4.88799673e-14,  5.76412880e-04,  5.87142581e-04,\n",
       "        6.01474310e-04,  5.66759556e-01, -3.61975015e-02, -1.46142318e-02,\n",
       "       -8.35098961e-03, -8.35098961e-03, -8.35098961e-03, -7.37056302e-01,\n",
       "       -2.08774740e-03, -2.08774740e-03])"
      ]
     },
     "execution_count": 24,
     "metadata": {},
     "output_type": "execute_result"
    }
   ],
   "source": [
    "train_dataset['x'][0]"
   ]
  },
  {
   "cell_type": "code",
   "execution_count": 25,
   "metadata": {},
   "outputs": [
    {
     "name": "stdout",
     "output_type": "stream",
     "text": [
      "WARNING:tensorflow:Layer lstm will not use cuDNN kernels since it doesn't meet the criteria. It will use a generic GPU kernel as fallback when running on GPU.\n",
      "WARNING:tensorflow:Layer lstm_1 will not use cuDNN kernels since it doesn't meet the criteria. It will use a generic GPU kernel as fallback when running on GPU.\n",
      "WARNING:tensorflow:Layer lstm_2 will not use cuDNN kernels since it doesn't meet the criteria. It will use a generic GPU kernel as fallback when running on GPU.\n",
      "WARNING:tensorflow:Layer lstm_3 will not use cuDNN kernels since it doesn't meet the criteria. It will use a generic GPU kernel as fallback when running on GPU.\n",
      "WARNING:tensorflow:Layer lstm_4 will not use cuDNN kernels since it doesn't meet the criteria. It will use a generic GPU kernel as fallback when running on GPU.\n",
      "Epoch 1/200\n",
      "32/32 [==============================] - 5s 60ms/step - loss: 77.0003 - accuracy: 0.0068\n",
      "Epoch 2/200\n",
      "32/32 [==============================] - 2s 54ms/step - loss: 76.6922 - accuracy: 0.0227\n",
      "Epoch 3/200\n",
      "32/32 [==============================] - 2s 57ms/step - loss: 76.5481 - accuracy: 0.0282\n",
      "Epoch 4/200\n",
      "32/32 [==============================] - 2s 54ms/step - loss: 76.4478 - accuracy: 0.0015\n",
      "Epoch 5/200\n",
      "32/32 [==============================] - 2s 53ms/step - loss: 76.3543 - accuracy: 0.1524\n",
      "Epoch 6/200\n",
      "32/32 [==============================] - 2s 54ms/step - loss: 76.2640 - accuracy: 0.0443\n",
      "Epoch 7/200\n",
      "32/32 [==============================] - 2s 54ms/step - loss: 76.1591 - accuracy: 0.1864\n",
      "Epoch 8/200\n",
      "32/32 [==============================] - 2s 54ms/step - loss: 76.0932 - accuracy: 0.0421\n",
      "Epoch 9/200\n",
      "32/32 [==============================] - 2s 53ms/step - loss: 76.0349 - accuracy: 0.0642\n",
      "Epoch 10/200\n",
      "32/32 [==============================] - 2s 54ms/step - loss: 75.9736 - accuracy: 0.0093\n",
      "Epoch 11/200\n",
      "32/32 [==============================] - 2s 53ms/step - loss: 75.9083 - accuracy: 0.0083\n",
      "Epoch 12/200\n",
      "32/32 [==============================] - 2s 54ms/step - loss: 75.8436 - accuracy: 0.0658\n",
      "Epoch 13/200\n",
      "32/32 [==============================] - 2s 53ms/step - loss: 75.7875 - accuracy: 0.1086\n",
      "Epoch 14/200\n",
      "32/32 [==============================] - 2s 53ms/step - loss: 75.8180 - accuracy: 0.0622\n",
      "Epoch 15/200\n",
      "32/32 [==============================] - 2s 53ms/step - loss: 75.6752 - accuracy: 0.0222\n",
      "Epoch 16/200\n",
      "32/32 [==============================] - 2s 54ms/step - loss: 75.5896 - accuracy: 0.0640\n",
      "Epoch 17/200\n",
      "32/32 [==============================] - 2s 53ms/step - loss: 75.5334 - accuracy: 0.0421\n",
      "Epoch 18/200\n",
      "32/32 [==============================] - 2s 53ms/step - loss: 75.4496 - accuracy: 0.0625\n",
      "Epoch 19/200\n",
      "32/32 [==============================] - 2s 53ms/step - loss: 75.3717 - accuracy: 0.1786\n",
      "Epoch 20/200\n",
      "32/32 [==============================] - 2s 54ms/step - loss: 76.0463 - accuracy: 0.3490\n",
      "Epoch 21/200\n",
      "32/32 [==============================] - 2s 53ms/step - loss: 76.0178 - accuracy: 0.3084\n",
      "Epoch 22/200\n",
      "32/32 [==============================] - 2s 54ms/step - loss: 75.9903 - accuracy: 0.3192\n",
      "Model: \"sequential\"\n",
      "_________________________________________________________________\n",
      " Layer (type)                Output Shape              Param #   \n",
      "=================================================================\n",
      " lstm (LSTM)                 (None, 1, 8)              736       \n",
      "                                                                 \n",
      " batch_normalization (BatchN  (None, 1, 8)             32        \n",
      " ormalization)                                                   \n",
      "                                                                 \n",
      " lstm_1 (LSTM)               (None, 1, 4)              208       \n",
      "                                                                 \n",
      " batch_normalization_1 (Batc  (None, 1, 4)             16        \n",
      " hNormalization)                                                 \n",
      "                                                                 \n",
      " lstm_2 (LSTM)               (None, 1)                 24        \n",
      "                                                                 \n",
      " batch_normalization_2 (Batc  (None, 1)                4         \n",
      " hNormalization)                                                 \n",
      "                                                                 \n",
      " repeat_vector (RepeatVector  (None, 1, 1)             0         \n",
      " )                                                               \n",
      "                                                                 \n",
      " lstm_3 (LSTM)               (None, 1, 4)              96        \n",
      "                                                                 \n",
      " batch_normalization_3 (Batc  (None, 1, 4)             16        \n",
      " hNormalization)                                                 \n",
      "                                                                 \n",
      " lstm_4 (LSTM)               (None, 1, 8)              416       \n",
      "                                                                 \n",
      " batch_normalization_4 (Batc  (None, 1, 8)             32        \n",
      " hNormalization)                                                 \n",
      "                                                                 \n",
      " time_distributed (TimeDistr  (None, 1, 14)            126       \n",
      " ibuted)                                                         \n",
      "                                                                 \n",
      "=================================================================\n",
      "Total params: 1,706\n",
      "Trainable params: 1,656\n",
      "Non-trainable params: 50\n",
      "_________________________________________________________________\n",
      "None\n"
     ]
    },
    {
     "data": {
      "text/plain": [
       "<keras.engine.sequential.Sequential at 0x290dd9ca0>"
      ]
     },
     "execution_count": 25,
     "metadata": {},
     "output_type": "execute_result"
    }
   ],
   "source": [
    "from lstm_autoencoder import lstm_autoencoder\n",
    "\n",
    "autoencoder = lstm_autoencoder(train_dataset, test_dataset, 0.96)\n",
    "autoencoder"
   ]
  },
  {
   "cell_type": "code",
   "execution_count": 36,
   "metadata": {},
   "outputs": [],
   "source": [
    "x_en = np.expand_dims(train_dataset['x'],axis=1)\n",
    "x_en = autoencoder.predict(x_en)\n",
    "x_en = x_en.reshape(x_en.shape[0], x_en.shape[2])"
   ]
  },
  {
   "cell_type": "code",
   "execution_count": 37,
   "metadata": {},
   "outputs": [
    {
     "data": {
      "text/plain": [
       "(3969, 14)"
      ]
     },
     "execution_count": 37,
     "metadata": {},
     "output_type": "execute_result"
    }
   ],
   "source": [
    "x_en.shape"
   ]
  },
  {
   "cell_type": "code",
   "execution_count": 38,
   "metadata": {},
   "outputs": [
    {
     "name": "stdout",
     "output_type": "stream",
     "text": [
      "====== Model summary ======\n",
      "Starting offline clustering...\n",
      "Processed 1000 instances.\n",
      "Found 1 clusters offline.\n",
      "\n",
      "Starting online clustering...\n",
      "Processed 2000 instances.\n",
      "Processed 3969 instances.\n",
      "Found 2 clusters online.\n",
      "\n"
     ]
    }
   ],
   "source": [
    "from loglizer.loglizer.models import LogClustering\n",
    "\n",
    "model = LogClustering()\n",
    "model.fit(x_en)"
   ]
  },
  {
   "cell_type": "code",
   "execution_count": 44,
   "metadata": {},
   "outputs": [
    {
     "data": {
      "text/plain": [
       "array([0., 0., 0., ..., 0., 0., 0.])"
      ]
     },
     "execution_count": 44,
     "metadata": {},
     "output_type": "execute_result"
    }
   ],
   "source": [
    "pred_train = model.predict(x_en)\n",
    "pred_train"
   ]
  },
  {
   "cell_type": "code",
   "execution_count": 45,
   "metadata": {},
   "outputs": [
    {
     "data": {
      "text/plain": [
       "0.9606953892668179"
      ]
     },
     "execution_count": 45,
     "metadata": {},
     "output_type": "execute_result"
    }
   ],
   "source": [
    "count, total = 0, 0\n",
    "for true, pred in zip(y_train, pred_train):\n",
    "    if int(true) == int(pred):\n",
    "        count += 1\n",
    "    total += 1\n",
    "\n",
    "count / total"
   ]
  },
  {
   "cell_type": "code",
   "execution_count": 49,
   "metadata": {},
   "outputs": [
    {
     "data": {
      "text/plain": [
       "array([0., 0., 0., ..., 0., 0., 0.])"
      ]
     },
     "execution_count": 49,
     "metadata": {},
     "output_type": "execute_result"
    }
   ],
   "source": [
    "x_ent = np.expand_dims(train_dataset['x'],axis=1)\n",
    "x_ent = autoencoder.predict(x_ent)\n",
    "x_ent = x_ent.reshape(x_ent.shape[0], x_ent.shape[2])\n",
    "\n",
    "pred_test = model.predict(x_ent)\n",
    "pred_test"
   ]
  },
  {
   "cell_type": "code",
   "execution_count": 50,
   "metadata": {},
   "outputs": [
    {
     "data": {
      "text/plain": [
       "0.9604434366339129"
      ]
     },
     "execution_count": 50,
     "metadata": {},
     "output_type": "execute_result"
    }
   ],
   "source": [
    "count, total = 0, 0\n",
    "for true, pred in zip(y_test, pred_test):\n",
    "    if int(true) == int(pred):\n",
    "        count += 1\n",
    "    total += 1\n",
    "\n",
    "count / total"
   ]
  },
  {
   "cell_type": "code",
   "execution_count": null,
   "metadata": {},
   "outputs": [],
   "source": []
  }
 ],
 "metadata": {
  "kernelspec": {
   "display_name": "Python 3.8.13 ('ml')",
   "language": "python",
   "name": "python3"
  },
  "language_info": {
   "codemirror_mode": {
    "name": "ipython",
    "version": 3
   },
   "file_extension": ".py",
   "mimetype": "text/x-python",
   "name": "python",
   "nbconvert_exporter": "python",
   "pygments_lexer": "ipython3",
   "version": "3.8.13"
  },
  "orig_nbformat": 4,
  "vscode": {
   "interpreter": {
    "hash": "9af30963835933b21408ee5eecfbf720fcadebfe3f3c64ab8e2d3dc6f0d4daa2"
   }
  }
 },
 "nbformat": 4,
 "nbformat_minor": 2
}
