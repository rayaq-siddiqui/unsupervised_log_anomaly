{
 "cells": [
  {
   "cell_type": "code",
   "execution_count": 1,
   "metadata": {},
   "outputs": [],
   "source": [
    "import numpy as np\n",
    "import pandas as pd"
   ]
  },
  {
   "cell_type": "code",
   "execution_count": 46,
   "metadata": {},
   "outputs": [
    {
     "name": "stderr",
     "output_type": "stream",
     "text": [
      "<ipython-input-46-aa9f4b8f5292>:17: FutureWarning: elementwise comparison failed; returning scalar instead, but in the future will perform elementwise comparison\n",
      "  if blk not in df['blk'].values:\n"
     ]
    },
    {
     "ename": "KeyboardInterrupt",
     "evalue": "",
     "output_type": "error",
     "traceback": [
      "\u001b[0;31m---------------------------------------------------------------------------\u001b[0m",
      "\u001b[0;31mKeyboardInterrupt\u001b[0m                         Traceback (most recent call last)",
      "\u001b[1;32m/Users/rayaq/Desktop/projects/blackberry_stuff/unsupervised_learning/log_unsupervised_1.ipynb Cell 2\u001b[0m in \u001b[0;36m<cell line: 7>\u001b[0;34m()\u001b[0m\n\u001b[1;32m     <a href='vscode-notebook-cell:/Users/rayaq/Desktop/projects/blackberry_stuff/unsupervised_learning/log_unsupervised_1.ipynb#W2sZmlsZQ%3D%3D?line=17'>18</a>\u001b[0m                 df\u001b[39m.\u001b[39mloc[\u001b[39mlen\u001b[39m(df\u001b[39m.\u001b[39mindex)] \u001b[39m=\u001b[39m [blk, line, \u001b[39mNone\u001b[39;00m]\n\u001b[1;32m     <a href='vscode-notebook-cell:/Users/rayaq/Desktop/projects/blackberry_stuff/unsupervised_learning/log_unsupervised_1.ipynb#W2sZmlsZQ%3D%3D?line=18'>19</a>\u001b[0m             \u001b[39melse\u001b[39;00m:\n\u001b[1;32m     <a href='vscode-notebook-cell:/Users/rayaq/Desktop/projects/blackberry_stuff/unsupervised_learning/log_unsupervised_1.ipynb#W2sZmlsZQ%3D%3D?line=19'>20</a>\u001b[0m                 \u001b[39m# msg = df[df['blk'] == blk]['message']\u001b[39;00m\n\u001b[1;32m     <a href='vscode-notebook-cell:/Users/rayaq/Desktop/projects/blackberry_stuff/unsupervised_learning/log_unsupervised_1.ipynb#W2sZmlsZQ%3D%3D?line=20'>21</a>\u001b[0m                 \u001b[39m# print(df[df['blk'] == blk]['message'])\u001b[39;00m\n\u001b[0;32m---> <a href='vscode-notebook-cell:/Users/rayaq/Desktop/projects/blackberry_stuff/unsupervised_learning/log_unsupervised_1.ipynb#W2sZmlsZQ%3D%3D?line=21'>22</a>\u001b[0m                 row \u001b[39m=\u001b[39m df[df[\u001b[39m'\u001b[39;49m\u001b[39mblk\u001b[39;49m\u001b[39m'\u001b[39;49m] \u001b[39m==\u001b[39;49m blk]\u001b[39m.\u001b[39mindex[\u001b[39m0\u001b[39m]\n\u001b[1;32m     <a href='vscode-notebook-cell:/Users/rayaq/Desktop/projects/blackberry_stuff/unsupervised_learning/log_unsupervised_1.ipynb#W2sZmlsZQ%3D%3D?line=22'>23</a>\u001b[0m                 df\u001b[39m.\u001b[39mat[row,\u001b[39m'\u001b[39m\u001b[39mmessage\u001b[39m\u001b[39m'\u001b[39m] \u001b[39m+\u001b[39m\u001b[39m=\u001b[39m line\n\u001b[1;32m     <a href='vscode-notebook-cell:/Users/rayaq/Desktop/projects/blackberry_stuff/unsupervised_learning/log_unsupervised_1.ipynb#W2sZmlsZQ%3D%3D?line=24'>25</a>\u001b[0m df\n",
      "File \u001b[0;32m~/miniforge3/envs/ml/lib/python3.8/site-packages/pandas/core/ops/common.py:70\u001b[0m, in \u001b[0;36m_unpack_zerodim_and_defer.<locals>.new_method\u001b[0;34m(self, other)\u001b[0m\n\u001b[1;32m     66\u001b[0m             \u001b[39mreturn\u001b[39;00m \u001b[39mNotImplemented\u001b[39m\n\u001b[1;32m     68\u001b[0m other \u001b[39m=\u001b[39m item_from_zerodim(other)\n\u001b[0;32m---> 70\u001b[0m \u001b[39mreturn\u001b[39;00m method(\u001b[39mself\u001b[39;49m, other)\n",
      "File \u001b[0;32m~/miniforge3/envs/ml/lib/python3.8/site-packages/pandas/core/arraylike.py:40\u001b[0m, in \u001b[0;36mOpsMixin.__eq__\u001b[0;34m(self, other)\u001b[0m\n\u001b[1;32m     38\u001b[0m \u001b[39m@unpack_zerodim_and_defer\u001b[39m(\u001b[39m\"\u001b[39m\u001b[39m__eq__\u001b[39m\u001b[39m\"\u001b[39m)\n\u001b[1;32m     39\u001b[0m \u001b[39mdef\u001b[39;00m \u001b[39m__eq__\u001b[39m(\u001b[39mself\u001b[39m, other):\n\u001b[0;32m---> 40\u001b[0m     \u001b[39mreturn\u001b[39;00m \u001b[39mself\u001b[39;49m\u001b[39m.\u001b[39;49m_cmp_method(other, operator\u001b[39m.\u001b[39;49meq)\n",
      "File \u001b[0;32m~/miniforge3/envs/ml/lib/python3.8/site-packages/pandas/core/series.py:5623\u001b[0m, in \u001b[0;36mSeries._cmp_method\u001b[0;34m(self, other, op)\u001b[0m\n\u001b[1;32m   5620\u001b[0m rvalues \u001b[39m=\u001b[39m extract_array(other, extract_numpy\u001b[39m=\u001b[39m\u001b[39mTrue\u001b[39;00m, extract_range\u001b[39m=\u001b[39m\u001b[39mTrue\u001b[39;00m)\n\u001b[1;32m   5622\u001b[0m \u001b[39mwith\u001b[39;00m np\u001b[39m.\u001b[39merrstate(\u001b[39mall\u001b[39m\u001b[39m=\u001b[39m\u001b[39m\"\u001b[39m\u001b[39mignore\u001b[39m\u001b[39m\"\u001b[39m):\n\u001b[0;32m-> 5623\u001b[0m     res_values \u001b[39m=\u001b[39m ops\u001b[39m.\u001b[39;49mcomparison_op(lvalues, rvalues, op)\n\u001b[1;32m   5625\u001b[0m \u001b[39mreturn\u001b[39;00m \u001b[39mself\u001b[39m\u001b[39m.\u001b[39m_construct_result(res_values, name\u001b[39m=\u001b[39mres_name)\n",
      "File \u001b[0;32m~/miniforge3/envs/ml/lib/python3.8/site-packages/pandas/core/ops/array_ops.py:283\u001b[0m, in \u001b[0;36mcomparison_op\u001b[0;34m(left, right, op)\u001b[0m\n\u001b[1;32m    280\u001b[0m     \u001b[39mreturn\u001b[39;00m invalid_comparison(lvalues, rvalues, op)\n\u001b[1;32m    282\u001b[0m \u001b[39melif\u001b[39;00m is_object_dtype(lvalues\u001b[39m.\u001b[39mdtype) \u001b[39mor\u001b[39;00m \u001b[39misinstance\u001b[39m(rvalues, \u001b[39mstr\u001b[39m):\n\u001b[0;32m--> 283\u001b[0m     res_values \u001b[39m=\u001b[39m comp_method_OBJECT_ARRAY(op, lvalues, rvalues)\n\u001b[1;32m    285\u001b[0m \u001b[39melse\u001b[39;00m:\n\u001b[1;32m    286\u001b[0m     res_values \u001b[39m=\u001b[39m _na_arithmetic_op(lvalues, rvalues, op, is_cmp\u001b[39m=\u001b[39m\u001b[39mTrue\u001b[39;00m)\n",
      "File \u001b[0;32m~/miniforge3/envs/ml/lib/python3.8/site-packages/pandas/core/ops/array_ops.py:73\u001b[0m, in \u001b[0;36mcomp_method_OBJECT_ARRAY\u001b[0;34m(op, x, y)\u001b[0m\n\u001b[1;32m     71\u001b[0m     result \u001b[39m=\u001b[39m libops\u001b[39m.\u001b[39mvec_compare(x\u001b[39m.\u001b[39mravel(), y\u001b[39m.\u001b[39mravel(), op)\n\u001b[1;32m     72\u001b[0m \u001b[39melse\u001b[39;00m:\n\u001b[0;32m---> 73\u001b[0m     result \u001b[39m=\u001b[39m libops\u001b[39m.\u001b[39;49mscalar_compare(x\u001b[39m.\u001b[39;49mravel(), y, op)\n\u001b[1;32m     74\u001b[0m \u001b[39mreturn\u001b[39;00m result\u001b[39m.\u001b[39mreshape(x\u001b[39m.\u001b[39mshape)\n",
      "\u001b[0;31mKeyboardInterrupt\u001b[0m: "
     ]
    }
   ],
   "source": [
    "df = pd.DataFrame({\n",
    "    'blk': [],\n",
    "    'message': [],\n",
    "    'Anamoly': []\n",
    "})\n",
    "\n",
    "with open('data/HDFS_1/HDFS.log') as file:\n",
    "    for line in file:\n",
    "        line = line.replace('\\n', '')\n",
    "        tmp = line.split(' ')\n",
    "        blk = None\n",
    "        for i in tmp:\n",
    "            if 'blk_' in i:\n",
    "                blk = i\n",
    "\n",
    "        if blk:\n",
    "            if blk not in df['blk'].values:\n",
    "                df.loc[len(df.index)] = [blk, line, None]\n",
    "            else:\n",
    "                # msg = df[df['blk'] == blk]['message']\n",
    "                # print(df[df['blk'] == blk]['message'])\n",
    "                row = df[df['blk'] == blk].index[0]\n",
    "                df.at[row,'message'] += line\n",
    "\n",
    "df"
   ]
  },
  {
   "cell_type": "code",
   "execution_count": null,
   "metadata": {},
   "outputs": [],
   "source": [
    "with open('data/HDFS_1/anomaly_label.csv') as file:\n",
    "    labels = pd.read_csv(file)\n",
    "    print(labels)"
   ]
  },
  {
   "cell_type": "code",
   "execution_count": null,
   "metadata": {},
   "outputs": [],
   "source": [
    "!pip install "
   ]
  },
  {
   "cell_type": "code",
   "execution_count": null,
   "metadata": {},
   "outputs": [],
   "source": [
    "from sklean.feature_extraction import TfidfVectorizer\n",
    "\n"
   ]
  }
 ],
 "metadata": {
  "kernelspec": {
   "display_name": "Python 3.8.13 ('ml')",
   "language": "python",
   "name": "python3"
  },
  "language_info": {
   "codemirror_mode": {
    "name": "ipython",
    "version": 3
   },
   "file_extension": ".py",
   "mimetype": "text/x-python",
   "name": "python",
   "nbconvert_exporter": "python",
   "pygments_lexer": "ipython3",
   "version": "3.8.13"
  },
  "orig_nbformat": 4,
  "vscode": {
   "interpreter": {
    "hash": "9af30963835933b21408ee5eecfbf720fcadebfe3f3c64ab8e2d3dc6f0d4daa2"
   }
  }
 },
 "nbformat": 4,
 "nbformat_minor": 2
}
